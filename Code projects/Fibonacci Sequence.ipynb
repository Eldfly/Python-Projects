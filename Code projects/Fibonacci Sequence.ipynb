{
 "cells": [
  {
   "cell_type": "markdown",
   "metadata": {},
   "source": [
    "**Enter a number and have the program generate the Fibonacci sequence to that number or to the Nth number.**"
   ]
  },
  {
   "cell_type": "code",
   "execution_count": 123,
   "metadata": {},
   "outputs": [],
   "source": [
    "def fibonacci(num):\n",
    "    \n",
    "    num = int(num)\n",
    "    \n",
    "    fibonacci = []\n",
    "    next_sequence = 0\n",
    "\n",
    "    #create list with all fibonacci 50 first numbers\n",
    "    for i in range(1000):\n",
    "\n",
    "        if i <= 1:\n",
    "\n",
    "            next_sequence += i\n",
    "            fibonacci.append(next_sequence)\n",
    "\n",
    "        else:  \n",
    "            #pass\n",
    "            next_sequence = fibonacci[i-1] + fibonacci[i-2]\n",
    "            fibonacci.append(next_sequence)\n",
    "    \n",
    "    #check if the number is a Fibonacci number, if it's not I will return the sequence to the closest\n",
    "    # Fibonacci number.\n",
    "    if num in fibonacci:\n",
    "        index = fibonacci.index(num)\n",
    "        return f'The number is a fibonacci number and the sequence is: {[str(n) for n in fibonacci[:index]]}' \n",
    "    else:\n",
    "        closest_num = fibonacci[min(range(len(fibonacci)), key = lambda i: abs(fibonacci[i]-num))]\n",
    "        index = fibonacci.index(closest_num)\n",
    "        return f'Your number is not a fibonacci number but closest fibonacci number is {closest_num} and the sequence up to that number is : {[str(n) for n in fibonacci[:index]]}' \n",
    "        "
   ]
  },
  {
   "cell_type": "code",
   "execution_count": 126,
   "metadata": {},
   "outputs": [
    {
     "name": "stdout",
     "output_type": "stream",
     "text": [
      "Your number is not a fibonacci number but closest fibonacci number is 10946 and the sequence up to that number is : ['0', '1', '1', '2', '3', '5', '8', '13', '21', '34', '55', '89', '144', '233', '377', '610', '987', '1597', '2584', '4181', '6765']\n"
     ]
    }
   ],
   "source": [
    "#run code\n",
    "fibonacci_sequence = fibonacci(12345)\n",
    "print(fibonacci_sequence)"
   ]
  }
 ],
 "metadata": {
  "kernelspec": {
   "display_name": "Python 3",
   "language": "python",
   "name": "python3"
  },
  "language_info": {
   "codemirror_mode": {
    "name": "ipython",
    "version": 3
   },
   "file_extension": ".py",
   "mimetype": "text/x-python",
   "name": "python",
   "nbconvert_exporter": "python",
   "pygments_lexer": "ipython3",
   "version": "3.7.7"
  }
 },
 "nbformat": 4,
 "nbformat_minor": 4
}
