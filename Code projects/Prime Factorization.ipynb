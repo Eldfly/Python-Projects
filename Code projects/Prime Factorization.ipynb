{
 "cells": [
  {
   "cell_type": "markdown",
   "metadata": {},
   "source": [
    "**Have the user enter a number and find all Prime Factors (if there are any) and display them.**"
   ]
  },
  {
   "cell_type": "code",
   "execution_count": 109,
   "metadata": {},
   "outputs": [],
   "source": [
    "def prime_factorization(num):\n",
    "    \n",
    "    input_num = int(num)\n",
    "    num = int(num)\n",
    "     \n",
    "        \n",
    "    prime_numbers = [2,3,5,7,11,13,17,19,23,29,31,37,41,43,47,53,59,61,67, 71,73,79,83,89,97,\n",
    "                     101,103,107,109,113,127,131,137,139,149,151,157,163,167,173,179,181,191,\n",
    "                     193,197,199,211,223,227,229,233,239,241,251,257,263,269,271,277,281,283,\n",
    "                     293,307,311,313,317,331,337,347,349,353,359,367,373,379,383,389,397,401,\n",
    "                     409,419,421,431,433,439,443,449,457,461,463,467,479,487,491,499]\n",
    "    \n",
    "    prime_factors = []\n",
    "    \n",
    "    \n",
    "    if (input_num > 1) and (input_num <= 1000):\n",
    "    \n",
    "        for i in range(len(prime_numbers)):\n",
    "            \n",
    "            #as long as a number is possible to be divided with a prime number I will add that prime\n",
    "            #number to my prime factor list. \n",
    "            while (num / prime_numbers[i]).is_integer():\n",
    "                num = num / prime_numbers[i]\n",
    "                prime_factors.append(prime_numbers[i])\n",
    "       \n",
    "        return f'The prime factors for your number {input_num} is {prime_factors}'\n",
    "    \n",
    "    elif (input_num == 1) | (input_num == 0):\n",
    "        return f'The number {input_num} does not have prime factors'\n",
    "\n",
    "    elif input_num < 0:\n",
    "        return f'Your input number {input_num} is not a positive number'\n",
    "\n",
    "    else:\n",
    "        return f'Your input number {input_num} is higher than the max 1000'\n"
   ]
  },
  {
   "cell_type": "code",
   "execution_count": 110,
   "metadata": {},
   "outputs": [
    {
     "name": "stdout",
     "output_type": "stream",
     "text": [
      "Please enter a number max(1000) and positive that you want to find all Primce Factors for: -80\n"
     ]
    },
    {
     "data": {
      "text/plain": [
       "'Your input number -80 is not a positive number'"
      ]
     },
     "execution_count": 110,
     "metadata": {},
     "output_type": "execute_result"
    }
   ],
   "source": [
    "prime_factorization(input('Please enter a number max(1000) and positive that you want to find all Primce Factors for: '))"
   ]
  },
  {
   "cell_type": "code",
   "execution_count": null,
   "metadata": {},
   "outputs": [],
   "source": []
  },
  {
   "cell_type": "code",
   "execution_count": null,
   "metadata": {},
   "outputs": [],
   "source": []
  },
  {
   "cell_type": "code",
   "execution_count": null,
   "metadata": {},
   "outputs": [],
   "source": []
  },
  {
   "cell_type": "code",
   "execution_count": null,
   "metadata": {},
   "outputs": [],
   "source": []
  },
  {
   "cell_type": "code",
   "execution_count": null,
   "metadata": {},
   "outputs": [],
   "source": []
  },
  {
   "cell_type": "code",
   "execution_count": null,
   "metadata": {},
   "outputs": [],
   "source": []
  },
  {
   "cell_type": "code",
   "execution_count": null,
   "metadata": {},
   "outputs": [],
   "source": []
  },
  {
   "cell_type": "code",
   "execution_count": null,
   "metadata": {},
   "outputs": [],
   "source": []
  },
  {
   "cell_type": "code",
   "execution_count": null,
   "metadata": {},
   "outputs": [],
   "source": []
  },
  {
   "cell_type": "code",
   "execution_count": null,
   "metadata": {},
   "outputs": [],
   "source": []
  }
 ],
 "metadata": {
  "kernelspec": {
   "display_name": "Python 3",
   "language": "python",
   "name": "python3"
  },
  "language_info": {
   "codemirror_mode": {
    "name": "ipython",
    "version": 3
   },
   "file_extension": ".py",
   "mimetype": "text/x-python",
   "name": "python",
   "nbconvert_exporter": "python",
   "pygments_lexer": "ipython3",
   "version": "3.7.7"
  }
 },
 "nbformat": 4,
 "nbformat_minor": 4
}
