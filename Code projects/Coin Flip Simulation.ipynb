{
 "cells": [
  {
   "cell_type": "markdown",
   "metadata": {},
   "source": [
    "**Write some code that simulates flipping a single coin however many times the user decides. The code should record the outcomes and count the number of tails and heads.**"
   ]
  },
  {
   "cell_type": "code",
   "execution_count": 3,
   "metadata": {},
   "outputs": [],
   "source": [
    "import random"
   ]
  },
  {
   "cell_type": "code",
   "execution_count": 29,
   "metadata": {},
   "outputs": [],
   "source": [
    "def flip_coin(answer):\n",
    "                \n",
    "    if answer.lower() == 'y':   \n",
    "        heads = 0\n",
    "        tails = 0        \n",
    "            \n",
    "        while answer.lower() == 'y':\n",
    "            coin = random.randint(0, 1)\n",
    "           \n",
    "\n",
    "            if coin == 1:\n",
    "                heads += 1\n",
    "                answer = input('You got tails!\\n\\nWant to play again? Y/N ')\n",
    "                \n",
    "                if answer.lower() == 'y':\n",
    "                    coin = random.randint(0, 1)\n",
    "                elif answer.lower() == 'n':  \n",
    "                    print(f'Result for this game \\nTotal number of tails: {tails} \\nTotal number of heads: {heads}')\n",
    "                    print('Okey, thanks for playing, have a good day')\n",
    "                    break\n",
    "                else:\n",
    "                    say_what = input(\"You don't know how to answer a question with Y or N? Try again \")\n",
    "                    flip_coin(say_what)\n",
    "            else:\n",
    "                tails += 1\n",
    "                answer = input('You got heads!\\n\\nWant to play again? Y/N ')\n",
    "                \n",
    "                if answer.lower() == 'y':\n",
    "                    coin = random.randint(0, 1)\n",
    "                elif answer.lower() == 'n': \n",
    "                    print(f'Result for this game \\nTotal number of tails: {tails} \\nTotal number of heads: {heads}')\n",
    "                    print('Okey, thanks for playing, have a good day')\n",
    "                    break\n",
    "\n",
    "                else:\n",
    "                    say_what = input(\"You don't know how to answer a question with Y or N? Try again \")\n",
    "                    flip_coin(say_what)\n",
    "\n",
    "    elif answer.lower() == 'n':\n",
    "            print('Okey maybe next time. Have a good day!')\n",
    "    else:\n",
    "            say_what = input(\"You don't know how to answer a question with Y or N? Try again \")\n",
    "            flip_coin(say_what)\n",
    "            \n",
    "            \n",
    "            \n"
   ]
  },
  {
   "cell_type": "code",
   "execution_count": 28,
   "metadata": {},
   "outputs": [
    {
     "name": "stdout",
     "output_type": "stream",
     "text": [
      "You want to flip a coin? Y/N dgfdg\n",
      "You don't know how to answer a question with Y or N? Try again gfdgd\n",
      "You don't know how to answer a question with Y or N? Try again \n",
      "You don't know how to answer a question with Y or N? Try again y\n",
      "You got heads!\n",
      "\n",
      "Want to play again? Y/N y\n",
      "You got tails!\n",
      "\n",
      "Want to play again? Y/N y\n",
      "You got tails!\n",
      "\n",
      "Want to play again? Y/N n\n",
      "Result for this game \n",
      "Total number of tails: 1 \n",
      "Total number of heads: 2\n",
      "Okey, thanks for playing, have a good day\n"
     ]
    }
   ],
   "source": [
    "flip_coin(input('You want to flip a coin? Y/N '))"
   ]
  },
  {
   "cell_type": "code",
   "execution_count": null,
   "metadata": {},
   "outputs": [],
   "source": []
  },
  {
   "cell_type": "code",
   "execution_count": null,
   "metadata": {},
   "outputs": [],
   "source": []
  },
  {
   "cell_type": "code",
   "execution_count": null,
   "metadata": {},
   "outputs": [],
   "source": []
  },
  {
   "cell_type": "code",
   "execution_count": null,
   "metadata": {},
   "outputs": [],
   "source": []
  },
  {
   "cell_type": "code",
   "execution_count": null,
   "metadata": {},
   "outputs": [],
   "source": []
  },
  {
   "cell_type": "code",
   "execution_count": null,
   "metadata": {},
   "outputs": [],
   "source": []
  },
  {
   "cell_type": "code",
   "execution_count": null,
   "metadata": {},
   "outputs": [],
   "source": []
  },
  {
   "cell_type": "code",
   "execution_count": null,
   "metadata": {},
   "outputs": [],
   "source": []
  },
  {
   "cell_type": "code",
   "execution_count": null,
   "metadata": {},
   "outputs": [],
   "source": []
  },
  {
   "cell_type": "code",
   "execution_count": null,
   "metadata": {},
   "outputs": [],
   "source": []
  },
  {
   "cell_type": "code",
   "execution_count": null,
   "metadata": {},
   "outputs": [],
   "source": []
  }
 ],
 "metadata": {
  "kernelspec": {
   "display_name": "Python 3",
   "language": "python",
   "name": "python3"
  },
  "language_info": {
   "codemirror_mode": {
    "name": "ipython",
    "version": 3
   },
   "file_extension": ".py",
   "mimetype": "text/x-python",
   "name": "python",
   "nbconvert_exporter": "python",
   "pygments_lexer": "ipython3",
   "version": "3.7.7"
  }
 },
 "nbformat": 4,
 "nbformat_minor": 4
}
