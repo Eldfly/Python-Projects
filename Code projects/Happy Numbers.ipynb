{
 "cells": [
  {
   "cell_type": "markdown",
   "metadata": {},
   "source": [
    "**A happy number is defined by the following process. Starting with any positive integer, replace the number by the sum of the squares of its digits, and repeat the process until the number equals 1 (where it will stay), or it loops endlessly in a cycle which does not include 1. Those numbers for which this process ends in 1 are happy numbers, while those that do not end in 1 are unhappy numbers. Display an example of your output here. Find first 8 happy numbers.**"
   ]
  },
  {
   "cell_type": "code",
   "execution_count": null,
   "metadata": {},
   "outputs": [],
   "source": [
    "12 1 square + 2 square "
   ]
  },
  {
   "cell_type": "code",
   "execution_count": 125,
   "metadata": {},
   "outputs": [],
   "source": [
    "#isHappyNumber() will determine whether a number is happy or not    \n",
    "def happy_number(num):    \n",
    "    rem = sum = 0;    \n",
    "        \n",
    "    #Calculates the sum of squares of digits    \n",
    "    while(num > 0):    \n",
    "        rem = num%10;    \n",
    "        sum = sum + (rem*rem);    \n",
    "        num = num//10; \n",
    "        \n",
    "    return sum;    \n",
    "        \n",
    "num = 123;    \n",
    "result = num;    \n",
    "     \n",
    "while(result != 1 and result != 4):    \n",
    "    result = isHappyNumber(result);    \n",
    "     \n",
    "#Happy number always ends with 1    \n",
    "if(result == 1):    \n",
    "    print(str(num) + \" is a happy number\");    \n",
    "#Unhappy number ends in a cycle of repeating numbers which contain 4    \n",
    "elif(result == 4):    \n",
    "    print(str(num) + \" is not a happy number\");   \n"
   ]
  },
  {
   "cell_type": "code",
   "execution_count": 126,
   "metadata": {},
   "outputs": [
    {
     "ename": "KeyboardInterrupt",
     "evalue": "",
     "output_type": "error",
     "traceback": [
      "\u001b[1;31m---------------------------------------------------------------------------\u001b[0m",
      "\u001b[1;31mKeyboardInterrupt\u001b[0m                         Traceback (most recent call last)",
      "\u001b[1;32m<ipython-input-126-b2b0a4e4c659>\u001b[0m in \u001b[0;36m<module>\u001b[1;34m\u001b[0m\n\u001b[1;32m----> 1\u001b[1;33m \u001b[0mhappy_numbers\u001b[0m\u001b[1;33m(\u001b[0m\u001b[1;36m14\u001b[0m\u001b[1;33m)\u001b[0m\u001b[1;33m\u001b[0m\u001b[1;33m\u001b[0m\u001b[0m\n\u001b[0m",
      "\u001b[1;32m<ipython-input-125-b0a2e9bc4f9e>\u001b[0m in \u001b[0;36mhappy_numbers\u001b[1;34m(num)\u001b[0m\n\u001b[0;32m     12\u001b[0m             \u001b[0mfirst_digit\u001b[0m \u001b[1;33m=\u001b[0m \u001b[0mnum\u001b[0m \u001b[1;33m//\u001b[0m\u001b[1;36m10\u001b[0m\u001b[1;33m\u001b[0m\u001b[1;33m\u001b[0m\u001b[0m\n\u001b[0;32m     13\u001b[0m             \u001b[0msquared_numbers_1\u001b[0m \u001b[1;33m=\u001b[0m \u001b[0mfirst_digit\u001b[0m \u001b[1;33m*\u001b[0m \u001b[0mfirst_digit\u001b[0m\u001b[1;33m\u001b[0m\u001b[1;33m\u001b[0m\u001b[0m\n\u001b[1;32m---> 14\u001b[1;33m             \u001b[0msquared_numbers_2\u001b[0m \u001b[1;33m=\u001b[0m \u001b[0mlast_digit\u001b[0m \u001b[1;33m*\u001b[0m \u001b[0mlast_digit\u001b[0m\u001b[1;33m\u001b[0m\u001b[1;33m\u001b[0m\u001b[0m\n\u001b[0m\u001b[0;32m     15\u001b[0m \u001b[1;33m\u001b[0m\u001b[0m\n\u001b[0;32m     16\u001b[0m             \u001b[0msumsquared\u001b[0m \u001b[1;33m=\u001b[0m \u001b[0msquared_numbers_1\u001b[0m \u001b[1;33m+\u001b[0m \u001b[0msquared_numbers_2\u001b[0m\u001b[1;33m\u001b[0m\u001b[1;33m\u001b[0m\u001b[0m\n",
      "\u001b[1;31mKeyboardInterrupt\u001b[0m: "
     ]
    }
   ],
   "source": [
    "happy_numbers(14)"
   ]
  },
  {
   "cell_type": "code",
   "execution_count": 110,
   "metadata": {},
   "outputs": [
    {
     "data": {
      "text/plain": [
       "1"
      ]
     },
     "execution_count": 110,
     "metadata": {},
     "output_type": "execute_result"
    }
   ],
   "source": [
    "num = 14\n",
    "rem = 0\n",
    "sum = 0\n",
    "rem = num%10;    \n",
    "sum = sum + (rem*rem);    \n",
    "num = num//10; \n",
    "num"
   ]
  },
  {
   "cell_type": "code",
   "execution_count": 114,
   "metadata": {},
   "outputs": [
    {
     "name": "stdout",
     "output_type": "stream",
     "text": [
      "3\n",
      "9\n",
      "12\n",
      "2\n",
      "13\n",
      "1\n",
      "1\n",
      "14\n",
      "0\n",
      "4\n",
      "16\n",
      "1\n",
      "1\n",
      "17\n",
      "0\n",
      "7\n",
      "49\n",
      "1\n",
      "1\n",
      "50\n",
      "0\n",
      "0\n",
      "0\n",
      "5\n",
      "5\n",
      "25\n",
      "0\n",
      "5\n",
      "25\n",
      "2\n",
      "2\n",
      "29\n",
      "0\n",
      "9\n",
      "81\n",
      "2\n",
      "2\n",
      "85\n",
      "0\n",
      "5\n",
      "25\n",
      "8\n",
      "8\n",
      "89\n",
      "0\n",
      "9\n",
      "81\n",
      "8\n",
      "8\n",
      "145\n",
      "0\n",
      "5\n",
      "25\n",
      "14\n",
      "4\n",
      "41\n",
      "1\n",
      "1\n",
      "42\n",
      "0\n",
      "2\n",
      "4\n",
      "4\n",
      "4\n",
      "20\n",
      "0\n",
      "0\n",
      "0\n",
      "2\n",
      "2\n",
      "4\n",
      "0\n",
      "123 is not a happy number\n"
     ]
    }
   ],
   "source": [
    "#isHappyNumber() will determine whether a number is happy or not    \n",
    "def isHappyNumber(num):    \n",
    "    rem = sum = 0;    \n",
    "        \n",
    "    #Calculates the sum of squares of digits    \n",
    "    while(num > 0):    \n",
    "        rem = num%10;    \n",
    "        sum = sum + (rem*rem);    \n",
    "        num = num//10; \n",
    "        \n",
    "    return sum;    \n",
    "        \n",
    "num = 123;    \n",
    "result = num;    \n",
    "     \n",
    "while(result != 1 and result != 4):    \n",
    "    result = isHappyNumber(result);    \n",
    "     \n",
    "#Happy number always ends with 1    \n",
    "if(result == 1):    \n",
    "    print(str(num) + \" is a happy number\");    \n",
    "#Unhappy number ends in a cycle of repeating numbers which contain 4    \n",
    "elif(result == 4):    \n",
    "    print(str(num) + \" is not a happy number\");   "
   ]
  },
  {
   "cell_type": "code",
   "execution_count": 57,
   "metadata": {},
   "outputs": [
    {
     "name": "stdout",
     "output_type": "stream",
     "text": [
      "4\n",
      "1\n",
      "4\n",
      "1\n",
      "7\n",
      "1\n",
      "7\n",
      "1\n",
      "0\n",
      "5\n",
      "5\n",
      "2\n",
      "0\n",
      "5\n",
      "9\n",
      "2\n",
      "5\n",
      "8\n",
      "5\n",
      "2\n",
      "9\n",
      "8\n",
      "5\n",
      "4\n",
      "1\n",
      "9\n",
      "2\n",
      "2\n",
      "4\n",
      "0\n",
      "2\n",
      "5\n",
      "8\n",
      "4\n",
      "6\n",
      "1\n",
      "9\n",
      "8\n",
      "7\n",
      "3\n",
      "8\n",
      "5\n",
      "5\n",
      "4\n",
      "1\n",
      "9\n",
      "8\n",
      "5\n",
      "4\n",
      "1\n",
      "14 is not a Happy number\n"
     ]
    }
   ],
   "source": []
  },
  {
   "cell_type": "code",
   "execution_count": 115,
   "metadata": {},
   "outputs": [],
   "source": [
    "# Python3 program to check a number \n",
    "# is a Happy number or not \n",
    "  \n",
    "# Utility method to return  \n",
    "# sum of square of digit of n \n",
    "def numSquareSum(n): \n",
    "    squareSum = 0; \n",
    "    while(n): \n",
    "        squareSum += (n % 10) * (n % 10); \n",
    "        n = int(n / 10); \n",
    "    return squareSum; "
   ]
  },
  {
   "cell_type": "code",
   "execution_count": 116,
   "metadata": {},
   "outputs": [],
   "source": [
    "# method return true if \n",
    "# n is Happy number \n",
    "def isHappynumber(n): \n",
    "  \n",
    "    # initialize slow  \n",
    "    # and fast by n \n",
    "    slow = n; \n",
    "    fast = n; \n",
    "    while(True): \n",
    "          \n",
    "        # move slow number \n",
    "        # by one iteration \n",
    "        slow = numSquareSum(slow); \n",
    "  \n",
    "        # move fast number \n",
    "        # by two iteration \n",
    "        fast = numSquareSum(numSquareSum(fast)); \n",
    "        if(slow != fast): \n",
    "            continue; \n",
    "        else: \n",
    "            break; \n",
    "  \n",
    "    # if both number meet at 1,  \n",
    "    # then return true \n",
    "    return (slow == 1); "
   ]
  },
  {
   "cell_type": "code",
   "execution_count": 118,
   "metadata": {},
   "outputs": [
    {
     "name": "stdout",
     "output_type": "stream",
     "text": [
      "145 is not a Happy number\n"
     ]
    }
   ],
   "source": [
    "\n",
    "# Driver Code \n",
    "n = 145; \n",
    "if (isHappynumber(n)): \n",
    "    print(n , \"is a Happy number\"); \n",
    "else: \n",
    "    print(n , \"is not a Happy number\"); "
   ]
  },
  {
   "cell_type": "code",
   "execution_count": null,
   "metadata": {},
   "outputs": [],
   "source": []
  },
  {
   "cell_type": "code",
   "execution_count": null,
   "metadata": {},
   "outputs": [],
   "source": []
  },
  {
   "cell_type": "code",
   "execution_count": null,
   "metadata": {},
   "outputs": [],
   "source": []
  },
  {
   "cell_type": "code",
   "execution_count": null,
   "metadata": {},
   "outputs": [],
   "source": []
  },
  {
   "cell_type": "code",
   "execution_count": null,
   "metadata": {},
   "outputs": [],
   "source": []
  }
 ],
 "metadata": {
  "kernelspec": {
   "display_name": "Python 3",
   "language": "python",
   "name": "python3"
  },
  "language_info": {
   "codemirror_mode": {
    "name": "ipython",
    "version": 3
   },
   "file_extension": ".py",
   "mimetype": "text/x-python",
   "name": "python",
   "nbconvert_exporter": "python",
   "pygments_lexer": "ipython3",
   "version": "3.7.7"
  }
 },
 "nbformat": 4,
 "nbformat_minor": 4
}
