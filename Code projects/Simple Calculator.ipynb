{
 "cells": [
  {
   "cell_type": "markdown",
   "metadata": {},
   "source": [
    "**A simple calculator to do basic operators.**"
   ]
  },
  {
   "cell_type": "code",
   "execution_count": 75,
   "metadata": {},
   "outputs": [],
   "source": [
    "def calculator(input_num1, operator, input_num2):\n",
    "    \n",
    "    #unpack my tuple and assign variable names to the values\n",
    "    #(input_num1, operator, input_num2) = number_to_calculate\n",
    "\n",
    "    #convert the string numbers to int values    \n",
    "    input_num1 = int(input_num1)\n",
    "    input_num2 = int(input_num2)\n",
    "    \n",
    "    \n",
    "    if operator == '+':\n",
    "        the_sum = input_num1 + input_num2\n",
    "        return the_sum\n",
    "    \n",
    "    elif operator == '-':\n",
    "        \n",
    "        the_difference = input_num1 - input_num2\n",
    "        return the_difference\n",
    "    \n",
    "    elif operator == '/':\n",
    "        \n",
    "        the_quota = input_num1 / input_num2\n",
    "        return the_quota\n",
    "    \n",
    "    elif operator == '*':\n",
    "        \n",
    "        the_product = input_num1 * input_num2\n",
    "        return the_product\n",
    "    \n",
    "    else:\n",
    "        \n",
    "        return f'Your operator {opreator} is not valid for this simple calculator.'    "
   ]
  },
  {
   "cell_type": "code",
   "execution_count": 74,
   "metadata": {},
   "outputs": [
    {
     "name": "stdout",
     "output_type": "stream",
     "text": [
      "Enter the number you want to calculate ex. 2+2. Your calculation: 2 + 2\n"
     ]
    },
    {
     "ename": "ValueError",
     "evalue": "too many values to unpack (expected 3)",
     "output_type": "error",
     "traceback": [
      "\u001b[1;31m---------------------------------------------------------------------------\u001b[0m",
      "\u001b[1;31mValueError\u001b[0m                                Traceback (most recent call last)",
      "\u001b[1;32m<ipython-input-74-ce83bc6e8be7>\u001b[0m in \u001b[0;36m<module>\u001b[1;34m\u001b[0m\n\u001b[0;32m      1\u001b[0m \u001b[0mnumber_to_calculate\u001b[0m \u001b[1;33m=\u001b[0m \u001b[0mtuple\u001b[0m\u001b[1;33m(\u001b[0m\u001b[0minput\u001b[0m\u001b[1;33m(\u001b[0m\u001b[1;34m'Enter the number you want to calculate ex. 2+2. Your calculation: '\u001b[0m\u001b[1;33m)\u001b[0m\u001b[1;33m)\u001b[0m\u001b[1;33m\u001b[0m\u001b[1;33m\u001b[0m\u001b[0m\n\u001b[1;32m----> 2\u001b[1;33m \u001b[0mcalculator\u001b[0m\u001b[1;33m(\u001b[0m\u001b[1;33m*\u001b[0m\u001b[0mnumber_to_calculate\u001b[0m\u001b[1;33m)\u001b[0m\u001b[1;33m\u001b[0m\u001b[1;33m\u001b[0m\u001b[0m\n\u001b[0m",
      "\u001b[1;32m<ipython-input-65-21df63d46461>\u001b[0m in \u001b[0;36mcalculator\u001b[1;34m(*number_to_calculate)\u001b[0m\n\u001b[0;32m      2\u001b[0m \u001b[1;33m\u001b[0m\u001b[0m\n\u001b[0;32m      3\u001b[0m     \u001b[1;31m#unpack my tuple and assign variable names to the values\u001b[0m\u001b[1;33m\u001b[0m\u001b[1;33m\u001b[0m\u001b[1;33m\u001b[0m\u001b[0m\n\u001b[1;32m----> 4\u001b[1;33m     \u001b[1;33m(\u001b[0m\u001b[0minput_num1\u001b[0m\u001b[1;33m,\u001b[0m \u001b[0moperator\u001b[0m\u001b[1;33m,\u001b[0m \u001b[0minput_num2\u001b[0m\u001b[1;33m)\u001b[0m \u001b[1;33m=\u001b[0m \u001b[0mnumber_to_calculate\u001b[0m\u001b[1;33m\u001b[0m\u001b[1;33m\u001b[0m\u001b[0m\n\u001b[0m\u001b[0;32m      5\u001b[0m \u001b[1;33m\u001b[0m\u001b[0m\n\u001b[0;32m      6\u001b[0m     \u001b[1;31m#convert the string numbers to int values\u001b[0m\u001b[1;33m\u001b[0m\u001b[1;33m\u001b[0m\u001b[1;33m\u001b[0m\u001b[0m\n",
      "\u001b[1;31mValueError\u001b[0m: too many values to unpack (expected 3)"
     ]
    }
   ],
   "source": [
    "number_to_calculate = tuple(input('Enter the number you want to calculate ex. 2+2. Your calculation: '))\n",
    "calculator(*number_to_calculate)"
   ]
  }
 ],
 "metadata": {
  "kernelspec": {
   "display_name": "Python 3",
   "language": "python",
   "name": "python3"
  },
  "language_info": {
   "codemirror_mode": {
    "name": "ipython",
    "version": 3
   },
   "file_extension": ".py",
   "mimetype": "text/x-python",
   "name": "python",
   "nbconvert_exporter": "python",
   "pygments_lexer": "ipython3",
   "version": "3.7.7"
  }
 },
 "nbformat": 4,
 "nbformat_minor": 4
}
